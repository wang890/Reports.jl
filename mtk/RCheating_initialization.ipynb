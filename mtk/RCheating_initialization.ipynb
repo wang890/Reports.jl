{
 "cells": [
  {
   "cell_type": "code",
   "execution_count": 86,
   "metadata": {},
   "outputs": [],
   "source": [
    "using ModelingToolkit, OrdinaryDiffEq, Plots\n",
    "using ModelingToolkit: t_nounits as t, D_nounits as d"
   ]
  },
  {
   "cell_type": "markdown",
   "metadata": {},
   "source": [
    "### Models"
   ]
  },
  {
   "cell_type": "code",
   "execution_count": 87,
   "metadata": {},
   "outputs": [
    {
     "data": {
      "text/plain": [
       "ModelingToolkit.Model{typeof(__OnePort__), Dict{Symbol, Any}}(__OnePort__, Dict{Symbol, Any}(:components => Any[Union{Expr, Symbol}[:p, :Pin], Union{Expr, Symbol}[:n, :Pin]], :variables => Dict{Symbol, Dict{Symbol, Any}}(:v => Dict(:type => Real), :i => Dict(:type => Real)), :kwargs => Dict{Symbol, Dict}(:v => Dict{Symbol, Union{Nothing, DataType}}(:value => nothing, :type => Real), :i => Dict{Symbol, Union{Nothing, DataType}}(:value => nothing, :type => Real)), :independent_variable => :t, :equations => Any[\"v ~ p.v - n.v\", \"v ~ p.v - n.v\", \"0 ~ p.i + n.i\", \"v ~ p.v - n.v\", \"0 ~ p.i + n.i\", \"i ~ p.i\"]), false)"
      ]
     },
     "metadata": {},
     "output_type": "display_data"
    }
   ],
   "source": [
    "@connector Pin begin\n",
    "    v(t) # Potential at the pin\n",
    "    i(t), [connect = Flow] # Current flowing into the pin\n",
    "end\n",
    "\n",
    "@mtkmodel OnePort begin\n",
    "    @components begin\n",
    "        p = Pin()\n",
    "        n = Pin()\n",
    "    end\n",
    "    @variables begin\n",
    "        v(t) # Voltage drop of the two pins (= p.v - n.v)\n",
    "        i(t) # Current flowing into the pin\n",
    "    end\n",
    "    @equations begin\n",
    "        v ~ p.v - n.v\n",
    "        0 ~ p.i + n.i\n",
    "        i ~ p.i\n",
    "    end\n",
    "end"
   ]
  },
  {
   "cell_type": "code",
   "execution_count": 88,
   "metadata": {},
   "outputs": [
    {
     "data": {
      "text/plain": [
       "ModelingToolkit.Model{typeof(__HeatPort_b__), Dict{Symbol, Any}}(__HeatPort_b__, Dict{Symbol, Any}(:independent_variable => t, :extend => Any[[:T, :Q_flow], :heatPort_b, :HeatPort]), true)"
      ]
     },
     "metadata": {},
     "output_type": "display_data"
    }
   ],
   "source": [
    "@connector HeatPort begin\n",
    "    T(t)\n",
    "    Q_flow(t), [connect = Flow]\n",
    "end\n",
    "\n",
    "@connector HeatPort_a begin\n",
    "    @extend T, Q_flow = heatPort_a = HeatPort()\n",
    "end\n",
    "\n",
    "@connector HeatPort_b begin\n",
    "    @extend T, Q_flow = heatPort_b = HeatPort()\n",
    "end"
   ]
  },
  {
   "cell_type": "code",
   "execution_count": 89,
   "metadata": {},
   "outputs": [
    {
     "data": {
      "text/plain": [
       "ModelingToolkit.Model{typeof(__FixedTemperature__), Dict{Symbol, Any}}(__FixedTemperature__, Dict{Symbol, Any}(:components => Any[Union{Expr, Symbol}[:port, :HeatPort_b]], :kwargs => Dict{Symbol, Dict}(:T => Dict{Symbol, Union{Nothing, DataType}}(:value => nothing, :type => Real)), :independent_variable => t, :parameters => Dict{Symbol, Dict{Symbol, Any}}(:T => Dict(:type => Real, :description => \"Fixed temperature boundary condition\")), :equations => Any[\"port.T ~ T\"]), false)"
      ]
     },
     "metadata": {},
     "output_type": "display_data"
    }
   ],
   "source": [
    "@mtkmodel FixedTemperature begin\n",
    "    @components begin\n",
    "        port = HeatPort_b()\n",
    "    end\n",
    "    @parameters begin\n",
    "        T, [description = \"Fixed temperature boundary condition\"]\n",
    "    end\n",
    "    @equations begin\n",
    "        port.T ~ T\n",
    "    end\n",
    "end"
   ]
  },
  {
   "cell_type": "code",
   "execution_count": 90,
   "metadata": {},
   "outputs": [
    {
     "data": {
      "text/plain": [
       "ModelingToolkit.Model{typeof(__HeatingResistor__), Dict{Symbol, Any}}(__HeatingResistor__, Dict{Symbol, Any}(:equations => Any[\"R ~ R_ref * (1 + alpha * (heat_port.T - T_ref))\", \"R ~ R_ref * (1 + alpha * (heat_port.T - T_ref))\", \"heat_port.Q_flow ~ -v * i\", \"R ~ R_ref * (1 + alpha * (heat_port.T - T_ref))\", \"heat_port.Q_flow ~ -v * i\", \"v ~ i * R\"], :components => Any[Union{Expr, Symbol}[:heat_port, :HeatPort]], :variables => Dict{Symbol, Dict{Symbol, Any}}(:R => Dict(:type => Real)), :kwargs => Dict{Symbol, Dict}(:alpha => Dict{Symbol, Any}(:value => 0, :type => Real), :T_ref => Dict{Symbol, Any}(:value => 300.15, :type => Real), :R => Dict{Symbol, Union{Nothing, DataType}}(:value => nothing, :type => Real), :R_ref => Dict{Symbol, Any}(:value => 1.0, :type => Real)), :independent_variable => :t, :extend => Any[[:v, :i], :oneport, :OnePort], :parameters => Dict{Symbol, Dict{Symbol, Any}}(:alpha => Dict(:default => 0, :type => Real, :description => \"Temperature coefficient of resistance\"), :T_ref => Dict(:default => 300.15, :type => Real, :description => \"Reference temperature\"), :R_ref => Dict(:default => 1.0, :type => Real, :description => \"Reference resistance\"))), false)"
      ]
     },
     "metadata": {},
     "output_type": "display_data"
    }
   ],
   "source": [
    "# copy from ModelingToolkitStandardLibrary\n",
    "@mtkmodel HeatingResistor begin\n",
    "    @extend v, i = oneport = OnePort()\n",
    "    @components begin\n",
    "        heat_port = HeatPort()\n",
    "    end\n",
    "    @parameters begin\n",
    "        R_ref = 1.0, [description = \"Reference resistance\"]\n",
    "        T_ref = 300.15, [description = \"Reference temperature\"]\n",
    "        alpha = 0, [description = \"Temperature coefficient of resistance\"]\n",
    "    end\n",
    "    @variables begin\n",
    "        R(t)#, [guess = R_ref]\n",
    "    end\n",
    "    @equations begin\n",
    "        R ~ R_ref * (1 + alpha * (heat_port.T - T_ref))\n",
    "        heat_port.Q_flow ~ -v * i # -LossPower\n",
    "        v ~ i * R \n",
    "        # ExtraVariablesSystemException: The system is unbalanced. \n",
    "        # There are 25 highest order derivative variables and 24 equations.\n",
    "    end\n",
    "end"
   ]
  },
  {
   "cell_type": "code",
   "execution_count": 91,
   "metadata": {},
   "outputs": [
    {
     "data": {
      "text/plain": [
       "ModelingToolkit.Model{typeof(__ConstantVoltage__), Dict{Symbol, Any}}(__ConstantVoltage__, Dict{Symbol, Any}(:equations => Any[\"v ~ V\"], :kwargs => Dict{Symbol, Dict}(:V => Dict{Symbol, Union{Nothing, DataType}}(:value => nothing, :type => Real)), :independent_variable => t, :extend => Any[[:v], :oneport, :OnePort], :parameters => Dict{Symbol, Dict{Symbol, Any}}(:V => Dict(:type => Real))), false)"
      ]
     },
     "metadata": {},
     "output_type": "display_data"
    }
   ],
   "source": [
    "@mtkmodel Ground begin\n",
    "    @components begin\n",
    "        p = Pin()\n",
    "    end\n",
    "    @equations begin\n",
    "        p.v ~ 0\n",
    "    end\n",
    "end\n",
    "\n",
    "@mtkmodel Capacitor begin\n",
    "    @extend i,v = oneport = OnePort()\n",
    "    @parameters begin\n",
    "        C # Capacitance\n",
    "    end\n",
    "    @equations begin\n",
    "        i ~ C * d(v)\n",
    "    end\n",
    "end\n",
    "\n",
    "@mtkmodel ConstantVoltage begin\n",
    "    @extend v, = oneport = OnePort()    \n",
    "    @parameters begin\n",
    "        V # Value of constant voltage\n",
    "    end\n",
    "    @equations begin\n",
    "        v ~ V\n",
    "    end\n",
    "end"
   ]
  },
  {
   "cell_type": "code",
   "execution_count": 92,
   "metadata": {},
   "outputs": [
    {
     "data": {
      "text/plain": [
       "ModelingToolkit.Model{typeof(__RcHeating__), Dict{Symbol, Any}}(__RcHeating__, Dict{Symbol, Any}(:components => Any[Union{Expr, Symbol}[:resistor, :HeatingResistor], Union{Expr, Symbol}[:capacitor, :Capacitor], Union{Expr, Symbol}[:source, :ConstantVoltage], Union{Expr, Symbol}[:ground, :Ground], Union{Expr, Symbol}[:fixedTemperature, :FixedTemperature]], :independent_variable => t, :equations => Any[\"connect(source.p, resistor.p)\", \"connect(source.p, resistor.p)\", \"connect(resistor.n, capacitor.p)\", \"connect(source.p, resistor.p)\", \"connect(resistor.n, capacitor.p)\", \"connect(capacitor.n, source.n, ground.p)\", \"connect(source.p, resistor.p)\", \"connect(resistor.n, capacitor.p)\", \"connect(capacitor.n, source.n, ground.p)\", \"connect(resistor.heat_port, fixedTemperature.port)\"]), false)"
      ]
     },
     "metadata": {},
     "output_type": "display_data"
    }
   ],
   "source": [
    "@mtkmodel RcHeating begin    \n",
    "    @components begin\n",
    "        resistor = HeatingResistor()           \n",
    "        capacitor = Capacitor()\n",
    "        source = ConstantVoltage()\n",
    "        ground = Ground()\n",
    "        fixedTemperature = FixedTemperature()\n",
    "        \n",
    "    end      \n",
    "    @equations begin        \n",
    "        connect(source.p, resistor.p)\n",
    "        connect(resistor.n, capacitor.p)\n",
    "        connect(capacitor.n, source.n, ground.p) \n",
    "        connect(resistor.heat_port, fixedTemperature.port)       \n",
    "    end\n",
    "end"
   ]
  },
  {
   "cell_type": "markdown",
   "metadata": {},
   "source": [
    "### 0. sys"
   ]
  },
  {
   "cell_type": "code",
   "execution_count": 93,
   "metadata": {},
   "outputs": [
    {
     "data": {
      "text/latex": [
       "$$ \\begin{align}\n",
       "\\frac{\\mathrm{d} \\mathtt{capacitor.v}\\left( t \\right)}{\\mathrm{d}t} &= \\frac{\\mathtt{capacitor.i}\\left( t \\right)}{\\mathtt{capacitor.C}} \\\\\n",
       "0 &=  - \\mathtt{resistor.v}\\left( t \\right) + \\mathtt{resistor.i}\\left( t \\right) \\mathtt{resistor.R}\\left( t \\right)\n",
       "\\end{align}\n",
       " $$"
      ],
      "text/plain": [
       "\u001b[0m\u001b[1mModel sys:\u001b[22m\n",
       "\u001b[0m\u001b[1mEquations (2):\u001b[22m\n",
       "  2 standard: see equations(sys)\n",
       "\u001b[0m\u001b[1mUnknowns (2):\u001b[22m see unknowns(sys)\n",
       "  capacitor₊v(t)\n",
       "  resistor₊i(t)\n",
       "\u001b[0m\u001b[1mParameters (6):\u001b[22m see parameters(sys)\n",
       "  resistor₊alpha [defaults to 0]: Temperature coefficient of resistance\n",
       "  fixedTemperature₊T: Fixed temperature boundary condition\n",
       "  source₊V\n",
       "  resistor₊R_ref [defaults to 1.0]: Reference resistance\n",
       "\u001b[0m  ⋮\n",
       "\u001b[0m\u001b[1mObserved (23):\u001b[22m see observed(sys)"
      ]
     },
     "metadata": {},
     "output_type": "display_data"
    }
   ],
   "source": [
    "@mtkbuild sys = RcHeating()"
   ]
  },
  {
   "cell_type": "code",
   "execution_count": 107,
   "metadata": {},
   "outputs": [
    {
     "data": {
      "text/plain": [
       "Core.nothing"
      ]
     },
     "metadata": {},
     "output_type": "display_data"
    }
   ],
   "source": [
    "\"\"\"\n",
    "Unknowns (2)\n",
    "    capacitor₊v(t) ▪ Unassigned ▪ Voltage drop of the two pins (= p.v - n.v)\n",
    "    resistor₊i(t) ▪ Unassigned ▪ Current flowing from pin p to pin n\n",
    "Parameters (6)\n",
    "    resistor₊alpha ▪ 0 ▪ Temperature coefficient of resistance\n",
    "    fixedTemperature₊T ▪ Unassigned ▪ Fixed temperature at port\n",
    "    source₊V ▪ Unassigned ▪ Value of constant voltage\n",
    "    resistor₊R_ref ▪ 1.0 ▪ Reference resistance\n",
    "    resistor₊T_ref ▪ 300.15 ▪ Reference temperature\n",
    "    capacitor₊C ▪ Unassigned ▪ Capacitance\n",
    "Equations (2)\n",
    "    Differential(t)(capacitor₊v(t)) ~ capacitor₊i(t) / capacitor₊C\n",
    "    0 ~ -resistor₊v(t) + resistor₊i(t)*resistor₊R(t)\n",
    "\"\"\"\n",
    "nothing"
   ]
  },
  {
   "cell_type": "code",
   "execution_count": 95,
   "metadata": {},
   "outputs": [
    {
     "data": {
      "text/plain": [
       "6-element Vector{Any}:\n",
       " resistor₊alpha\n",
       " fixedTemperature₊T\n",
       " source₊V\n",
       " resistor₊R_ref\n",
       " resistor₊T_ref\n",
       " capacitor₊C"
      ]
     },
     "metadata": {},
     "output_type": "display_data"
    },
    {
     "data": {
      "text/latex": [
       "$$ \\begin{align}\n",
       "\\mathtt{capacitor.p.v}\\left( t \\right) &= \\mathtt{capacitor.v}\\left( t \\right) \\\\\n",
       "\\mathtt{source.v}\\left( t \\right) &= \\mathtt{source.V} \\\\\n",
       "\\mathtt{resistor.p.i}\\left( t \\right) &= \\mathtt{resistor.i}\\left( t \\right) \\\\\n",
       "\\mathtt{fixedTemperature.port.T}\\left( t \\right) &= \\mathtt{fixedTemperature.T} \\\\\n",
       "\\mathtt{capacitor.i}\\left( t \\right) &= \\mathtt{resistor.i}\\left( t \\right) \\\\\n",
       "\\mathtt{source.i}\\left( t \\right) &=  - \\mathtt{resistor.i}\\left( t \\right) \\\\\n",
       "\\mathtt{ground.p.v}\\left( t \\right) &= 0 \\\\\n",
       "\\mathtt{capacitor.n.v}\\left( t \\right) &= -0 \\\\\n",
       "\\mathtt{resistor.n.v}\\left( t \\right) &= \\mathtt{capacitor.p.v}\\left( t \\right) \\\\\n",
       "\\mathtt{resistor.v}\\left( t \\right) &=  - \\mathtt{capacitor.v}\\left( t \\right) + \\mathtt{source.v}\\left( t \\right) \\\\\n",
       "\\mathtt{resistor.n.i}\\left( t \\right) &=  - \\mathtt{resistor.p.i}\\left( t \\right) \\\\\n",
       "\\mathtt{resistor.heat\\_port.T}\\left( t \\right) &= \\mathtt{fixedTemperature.port.T}\\left( t \\right) \\\\\n",
       "\\mathtt{capacitor.p.i}\\left( t \\right) &= \\mathtt{capacitor.i}\\left( t \\right) \\\\\n",
       "\\mathtt{ground.p.i}\\left( t \\right) &=  - \\mathtt{resistor.i}\\left( t \\right) + \\mathtt{capacitor.i}\\left( t \\right) \\\\\n",
       "\\mathtt{source.p.i}\\left( t \\right) &= \\mathtt{source.i}\\left( t \\right) \\\\\n",
       "\\mathtt{source.n.v}\\left( t \\right) &= \\mathtt{capacitor.n.v}\\left( t \\right) \\\\\n",
       "\\mathtt{source.p.v}\\left( t \\right) &= \\mathtt{capacitor.p.v}\\left( t \\right) + \\mathtt{resistor.v}\\left( t \\right) \\\\\n",
       "\\mathtt{resistor.heat\\_port.Q\\_flow}\\left( t \\right) &=  - \\mathtt{resistor.i}\\left( t \\right) \\mathtt{resistor.v}\\left( t \\right) \\\\\n",
       "\\mathtt{resistor.R}\\left( t \\right) &=  - \\mathtt{resistor.R\\_ref} \\left( -1 - \\left(  - \\mathtt{resistor.T\\_ref} + \\mathtt{resistor.heat\\_port.T}\\left( t \\right) \\right) \\mathtt{resistor.alpha} \\right) \\\\\n",
       "\\mathtt{capacitor.n.i}\\left( t \\right) &=  - \\mathtt{capacitor.p.i}\\left( t \\right) \\\\\n",
       "\\mathtt{source.n.i}\\left( t \\right) &=  - \\mathtt{source.p.i}\\left( t \\right) \\\\\n",
       "\\mathtt{resistor.p.v}\\left( t \\right) &= \\mathtt{source.p.v}\\left( t \\right) \\\\\n",
       "\\mathtt{fixedTemperature.port.Q\\_flow}\\left( t \\right) &=  - \\mathtt{resistor.heat\\_port.Q\\_flow}\\left( t \\right)\n",
       "\\end{align}\n",
       " $$"
      ],
      "text/plain": [
       "23-element Vector{Equation}:\n",
       " capacitor₊p₊v(t) ~ capacitor₊v(t)\n",
       " source₊v(t) ~ source₊V\n",
       " resistor₊p₊i(t) ~ resistor₊i(t)\n",
       " fixedTemperature₊port₊T(t) ~ fixedTemperature₊T\n",
       " capacitor₊i(t) ~ resistor₊i(t)\n",
       " source₊i(t) ~ -resistor₊i(t)\n",
       " ground₊p₊v(t) ~ 0.0\n",
       " capacitor₊n₊v(t) ~ -0.0\n",
       " resistor₊n₊v(t) ~ capacitor₊p₊v(t)\n",
       " resistor₊v(t) ~ -capacitor₊v(t) + source₊v(t)\n",
       " ⋮\n",
       " source₊p₊i(t) ~ source₊i(t)\n",
       " source₊n₊v(t) ~ capacitor₊n₊v(t)\n",
       " source₊p₊v(t) ~ capacitor₊p₊v(t) + resistor₊v(t)\n",
       " resistor₊heat_port₊Q_flow(t) ~ -resistor₊i(t)*resistor₊v(t)\n",
       " resistor₊R(t) ~ -resistor₊R_ref*(-1 - (-resistor₊T_ref + resistor₊heat_port₊T(t))*resistor₊alpha)\n",
       " capacitor₊n₊i(t) ~ -capacitor₊p₊i(t)\n",
       " source₊n₊i(t) ~ -source₊p₊i(t)\n",
       " resistor₊p₊v(t) ~ source₊p₊v(t)\n",
       " fixedTemperature₊port₊Q_flow(t) ~ -resistor₊heat_port₊Q_flow(t)"
      ]
     },
     "metadata": {},
     "output_type": "display_data"
    },
    {
     "data": {
      "text/plain": [
       "2-element Vector{SymbolicUtils.BasicSymbolic{Real}}:\n",
       " capacitor₊v(t)\n",
       " resistor₊i(t)"
      ]
     },
     "metadata": {},
     "output_type": "display_data"
    },
    {
     "data": {
      "text/latex": [
       "$$ \\begin{align}\n",
       "\\frac{\\mathrm{d} \\mathtt{capacitor.v}\\left( t \\right)}{\\mathrm{d}t} &= \\frac{\\mathtt{capacitor.i}\\left( t \\right)}{\\mathtt{capacitor.C}} \\\\\n",
       "0 &=  - \\mathtt{resistor.v}\\left( t \\right) + \\mathtt{resistor.i}\\left( t \\right) \\mathtt{resistor.R}\\left( t \\right)\n",
       "\\end{align}\n",
       " $$"
      ],
      "text/plain": [
       "2-element Vector{Equation}:\n",
       " Differential(t)(capacitor₊v(t)) ~ capacitor₊i(t) / capacitor₊C\n",
       " 0 ~ -resistor₊v(t) + resistor₊i(t)*resistor₊R(t)"
      ]
     },
     "metadata": {},
     "output_type": "display_data"
    }
   ],
   "source": [
    "parameters(sys) |> display\n",
    "observed(sys) |> display\n",
    "unknowns(sys) |> display\n",
    "equations(sys) |> display"
   ]
  },
  {
   "cell_type": "markdown",
   "metadata": {},
   "source": [
    "### .1 (sys)"
   ]
  },
  {
   "cell_type": "code",
   "execution_count": 96,
   "metadata": {},
   "outputs": [
    {
     "data": {
      "text/plain": [
       "display_isys (generic function with 1 method)"
      ]
     },
     "metadata": {},
     "output_type": "display_data"
    }
   ],
   "source": [
    "function display_isys(isys)\n",
    "    # isys_ps = parameters(isys)\n",
    "    isys_eqs = equations(isys)\n",
    "    isys_unks = unknowns(isys)\n",
    "    isys_obs = observed(isys)\n",
    "\n",
    "    # display(\"$(length(isys_ps)) parameters\")\n",
    "    # display(isys_ps)\n",
    "    display(\"$(length(isys_eqs)) equations\")\n",
    "    display(isys_eqs)\n",
    "    display(\"$(length(isys_unks)) unknowns\")\n",
    "    display(isys_unks)\n",
    "    display(\"$(length(isys_obs)) observed\")\n",
    "    display(isys_obs)\n",
    "end"
   ]
  },
  {
   "cell_type": "code",
   "execution_count": 97,
   "metadata": {},
   "outputs": [
    {
     "data": {
      "text/plain": [
       "\"24 equations\""
      ]
     },
     "metadata": {},
     "output_type": "display_data"
    },
    {
     "data": {
      "text/latex": [
       "$$ \\begin{align}\n",
       "0 &=  - \\mathtt{resistor.v}\\left( t \\right) + \\mathtt{resistor.i}\\left( t \\right) \\mathtt{resistor.R}\\left( t \\right) \\\\\n",
       "0 &= \\mathtt{capacitor.v}\\left( t \\right) - \\mathtt{capacitor.p.v}\\left( t \\right) \\\\\n",
       "0 &= \\mathtt{source.V} - \\mathtt{source.v}\\left( t \\right) \\\\\n",
       "0 &= \\mathtt{resistor.i}\\left( t \\right) - \\mathtt{resistor.p.i}\\left( t \\right) \\\\\n",
       "0 &= \\mathtt{fixedTemperature.T} - \\mathtt{fixedTemperature.port.T}\\left( t \\right) \\\\\n",
       "0 &= \\mathtt{resistor.i}\\left( t \\right) - \\mathtt{capacitor.i}\\left( t \\right) \\\\\n",
       "0 &=  - \\mathtt{source.i}\\left( t \\right) - \\mathtt{resistor.i}\\left( t \\right) \\\\\n",
       "0 &=  - \\mathtt{ground.p.v}\\left( t \\right) \\\\\n",
       "0 &=  - \\mathtt{capacitor.n.v}\\left( t \\right) \\\\\n",
       "0 &=  - \\mathtt{resistor.n.v}\\left( t \\right) + \\mathtt{capacitor.p.v}\\left( t \\right) \\\\\n",
       "0 &=  - \\mathtt{capacitor.v}\\left( t \\right) - \\mathtt{resistor.v}\\left( t \\right) + \\mathtt{source.v}\\left( t \\right) \\\\\n",
       "0 &=  - \\mathtt{resistor.p.i}\\left( t \\right) - \\mathtt{resistor.n.i}\\left( t \\right) \\\\\n",
       "0 &= \\mathtt{fixedTemperature.port.T}\\left( t \\right) - \\mathtt{resistor.heat\\_port.T}\\left( t \\right) \\\\\n",
       "0 &=  - \\mathtt{capacitor.p.i}\\left( t \\right) + \\mathtt{capacitor.i}\\left( t \\right) \\\\\n",
       "0 &=  - \\mathtt{ground.p.i}\\left( t \\right) - \\mathtt{resistor.i}\\left( t \\right) + \\mathtt{capacitor.i}\\left( t \\right) \\\\\n",
       "0 &= \\mathtt{source.i}\\left( t \\right) - \\mathtt{source.p.i}\\left( t \\right) \\\\\n",
       "0 &=  - \\mathtt{source.n.v}\\left( t \\right) + \\mathtt{capacitor.n.v}\\left( t \\right) \\\\\n",
       "0 &= \\mathtt{capacitor.p.v}\\left( t \\right) + \\mathtt{resistor.v}\\left( t \\right) - \\mathtt{source.p.v}\\left( t \\right) \\\\\n",
       "0 &=  - \\mathtt{resistor.heat\\_port.Q\\_flow}\\left( t \\right) - \\mathtt{resistor.i}\\left( t \\right) \\mathtt{resistor.v}\\left( t \\right) \\\\\n",
       "0 &=  - \\mathtt{resistor.R}\\left( t \\right) - \\mathtt{resistor.R\\_ref} \\left( -1 - \\left(  - \\mathtt{resistor.T\\_ref} + \\mathtt{resistor.heat\\_port.T}\\left( t \\right) \\right) \\mathtt{resistor.alpha} \\right) \\\\\n",
       "0 &=  - \\mathtt{capacitor.p.i}\\left( t \\right) - \\mathtt{capacitor.n.i}\\left( t \\right) \\\\\n",
       "0 &=  - \\mathtt{source.p.i}\\left( t \\right) - \\mathtt{source.n.i}\\left( t \\right) \\\\\n",
       "0 &= \\mathtt{source.p.v}\\left( t \\right) - \\mathtt{resistor.p.v}\\left( t \\right) \\\\\n",
       "0 &=  - \\mathtt{fixedTemperature.port.Q\\_flow}\\left( t \\right) - \\mathtt{resistor.heat\\_port.Q\\_flow}\\left( t \\right)\n",
       "\\end{align}\n",
       " $$"
      ],
      "text/plain": [
       "24-element Vector{Equation}:\n",
       " 0 ~ -resistor₊v(t) + resistor₊i(t)*resistor₊R(t)\n",
       " 0 ~ capacitor₊v(t) - capacitor₊p₊v(t)\n",
       " 0 ~ source₊V - source₊v(t)\n",
       " 0 ~ resistor₊i(t) - resistor₊p₊i(t)\n",
       " 0 ~ fixedTemperature₊T - fixedTemperature₊port₊T(t)\n",
       " 0 ~ resistor₊i(t) - capacitor₊i(t)\n",
       " 0 ~ -source₊i(t) - resistor₊i(t)\n",
       " 0 ~ -ground₊p₊v(t)\n",
       " 0 ~ -capacitor₊n₊v(t)\n",
       " 0 ~ -resistor₊n₊v(t) + capacitor₊p₊v(t)\n",
       " ⋮\n",
       " 0 ~ source₊i(t) - source₊p₊i(t)\n",
       " 0 ~ -source₊n₊v(t) + capacitor₊n₊v(t)\n",
       " 0 ~ capacitor₊p₊v(t) + resistor₊v(t) - source₊p₊v(t)\n",
       " 0 ~ -resistor₊heat_port₊Q_flow(t) - resistor₊i(t)*resistor₊v(t)\n",
       " 0 ~ -resistor₊R(t) - resistor₊R_ref*(-1 - (-resistor₊T_ref + resistor₊heat_port₊T(t))*resistor₊alpha)\n",
       " 0 ~ -capacitor₊p₊i(t) - capacitor₊n₊i(t)\n",
       " 0 ~ -source₊p₊i(t) - source₊n₊i(t)\n",
       " 0 ~ source₊p₊v(t) - resistor₊p₊v(t)\n",
       " 0 ~ -fixedTemperature₊port₊Q_flow(t) - resistor₊heat_port₊Q_flow(t)"
      ]
     },
     "metadata": {},
     "output_type": "display_data"
    },
    {
     "data": {
      "text/plain": [
       "\"25 unknowns\""
      ]
     },
     "metadata": {},
     "output_type": "display_data"
    },
    {
     "data": {
      "text/plain": [
       "25-element Vector{SymbolicUtils.BasicSymbolic{Real}}:\n",
       " capacitor₊v(t)\n",
       " resistor₊i(t)\n",
       " capacitor₊p₊v(t)\n",
       " source₊v(t)\n",
       " resistor₊p₊i(t)\n",
       " fixedTemperature₊port₊T(t)\n",
       " capacitor₊i(t)\n",
       " source₊i(t)\n",
       " ground₊p₊v(t)\n",
       " capacitor₊n₊v(t)\n",
       " ⋮\n",
       " source₊p₊i(t)\n",
       " source₊n₊v(t)\n",
       " source₊p₊v(t)\n",
       " resistor₊heat_port₊Q_flow(t)\n",
       " resistor₊R(t)\n",
       " capacitor₊n₊i(t)\n",
       " source₊n₊i(t)\n",
       " resistor₊p₊v(t)\n",
       " fixedTemperature₊port₊Q_flow(t)"
      ]
     },
     "metadata": {},
     "output_type": "display_data"
    },
    {
     "data": {
      "text/plain": [
       "\"0 observed\""
      ]
     },
     "metadata": {},
     "output_type": "display_data"
    },
    {
     "data": {
      "text/latex": [
       "$$ \\begin{align}\n",
       "\\end{align}\n",
       " $$"
      ],
      "text/plain": [
       "Equation[]"
      ]
     },
     "metadata": {},
     "output_type": "display_data"
    }
   ],
   "source": [
    "isys1 = generate_initializesystem(sys)\n",
    "display_isys(isys1)"
   ]
  },
  {
   "cell_type": "code",
   "execution_count": 98,
   "metadata": {},
   "outputs": [
    {
     "name": "stderr",
     "output_type": "stream",
     "text": [
      "┌ Warning: Initialization system is underdetermined. 0 equations for 1 unknowns. Initialization will default to using least squares. `SCCNonlinearProblem` can only be used for initialization of fully determined systems and hence will not be used here. To suppress this warning pass warn_initialize_determined = false. To make this warning into an error, pass fully_determined = true\n",
      "└ @ ModelingToolkit C:\\Users\\TCY\\.julia\\packages\\ModelingToolkit\\aau6A\\src\\systems\\diffeqs\\abstractodesystem.jl:1523\n",
      "┌ Warning: Did not converge after `maxiters = 100` substitutions. Either there is a cycle in the rules or `maxiters` needs to be higher.\n",
      "└ @ Symbolics C:\\Users\\TCY\\.julia\\packages\\Symbolics\\tSVcV\\src\\variable.jl:587\n"
     ]
    },
    {
     "ename": "ModelingToolkit.MissingGuessError",
     "evalue": "Cyclic guesses detected in the system. Symbolic values were found for the following variables/parameters in the map: \nresistor₊p₊i(t)  => resistor₊i(t)\nIn order to resolve this, please provide additional numeric guesses so that the chain can be resolved to assign numeric values to each variable.            \n",
     "output_type": "error",
     "traceback": [
      "Cyclic guesses detected in the system. Symbolic values were found for the following variables/parameters in the map: \n",
      "resistor₊p₊i(t)  => resistor₊i(t)\n",
      "In order to resolve this, please provide additional numeric guesses so that the chain can be resolved to assign numeric values to each variable.            \n",
      "\n",
      "\n",
      "Stacktrace:\n",
      "  [1] better_varmap_to_vars(varmap::Dict{Any, Any}, vars::Vector{SymbolicUtils.BasicSymbolic{Real}}; tofloat::Bool, container_type::Type, toterm::Function, promotetoconcrete::Nothing, check::Bool, allow_symbolic::Bool, is_initializeprob::Bool)\n",
      "    @ ModelingToolkit C:\\Users\\TCY\\.julia\\packages\\ModelingToolkit\\aau6A\\src\\systems\\problem_utils.jl:385\n",
      "  [2] process_SciMLProblem(constructor::Type, sys::NonlinearSystem, u0map::Dict{Any, Any}, pmap::Dict{Any, Any}; build_initializeprob::Bool, implicit_dae::Bool, t::Nothing, guesses::Dict{Any, Any}, warn_initialize_determined::Bool, initialization_eqs::Vector{Any}, eval_expression::Bool, eval_module::Module, fully_determined::Nothing, check_initialization_units::Bool, tofloat::Bool, u0_constructor::typeof(identity), du0map::Nothing, check_length::Bool, symbolic_u0::Bool, warn_cyclic_dependency::Bool, circular_dependency_max_cycle_length::Int64, circular_dependency_max_cycles::Int64, substitution_limit::Int64, use_scc::Bool, force_initialization_time_independent::Bool, algebraic_only::Bool, allow_incomplete::Bool, is_initializeprob::Bool, kwargs::@Kwargs{})\n",
      "    @ ModelingToolkit C:\\Users\\TCY\\.julia\\packages\\ModelingToolkit\\aau6A\\src\\systems\\problem_utils.jl:860\n",
      "  [3] process_SciMLProblem\n",
      "    @ C:\\Users\\TCY\\.julia\\packages\\ModelingToolkit\\aau6A\\src\\systems\\problem_utils.jl:775 [inlined]\n",
      "  [4] (NonlinearLeastSquaresProblem{true})(sys::NonlinearSystem, u0map::Dict{Any, Any}, parammap::Dict{Any, Any}; check_length::Bool, kwargs::@Kwargs{eval_expression::Bool, eval_module::Module, warn_cyclic_dependency::Bool, circular_dependency_max_cycle_length::Int64, circular_dependency_max_cycles::Int64, build_initializeprob::Bool, is_initializeprob::Bool})\n",
      "    @ ModelingToolkit C:\\Users\\TCY\\.julia\\packages\\ModelingToolkit\\aau6A\\src\\systems\\nonlinear\\nonlinearsystem.jl:590\n",
      "  [5] NonlinearLeastSquaresProblem(::NonlinearSystem, ::Dict{Any, Any}, ::Vararg{Dict{Any, Any}}; kwargs::@Kwargs{eval_expression::Bool, eval_module::Module, warn_cyclic_dependency::Bool, circular_dependency_max_cycle_length::Int64, circular_dependency_max_cycles::Int64, build_initializeprob::Bool, is_initializeprob::Bool})\n",
      "    @ ModelingToolkit C:\\Users\\TCY\\.julia\\packages\\ModelingToolkit\\aau6A\\src\\systems\\nonlinear\\nonlinearsystem.jl:581\n",
      "  [6] ModelingToolkit.InitializationProblem{true, SciMLBase.FullSpecialize}(sys::ODESystem, t::Float64, u0map::Dict{Any, Any}, parammap::Dict{Any, Any}; guesses::Dict{Any, Any}, check_length::Bool, warn_initialize_determined::Bool, initialization_eqs::Vector{Any}, fully_determined::Nothing, check_units::Bool, use_scc::Bool, allow_incomplete::Bool, force_time_independent::Bool, algebraic_only::Bool, kwargs::@Kwargs{eval_expression::Bool, eval_module::Module, warn_cyclic_dependency::Bool, circular_dependency_max_cycle_length::Int64, circular_dependency_max_cycles::Int64})\n",
      "    @ ModelingToolkit C:\\Users\\TCY\\.julia\\packages\\ModelingToolkit\\aau6A\\src\\systems\\diffeqs\\abstractodesystem.jl:1581\n",
      "  [7] InitializationProblem\n",
      "    @ C:\\Users\\TCY\\.julia\\packages\\ModelingToolkit\\aau6A\\src\\systems\\diffeqs\\abstractodesystem.jl:1434 [inlined]\n",
      "  [8] maybe_build_initialization_problem(sys::ODESystem, op::Dict{Any, Any}, u0map::Dict{Any, Any}, pmap::Dict{Any, Any}, t::Float64, defs::Dict{Any, Any}, guesses::Dict{Any, Any}, missing_unknowns::Set{Any}; implicit_dae::Bool, u0_constructor::Function, kwargs::@Kwargs{warn_initialize_determined::Bool, initialization_eqs::Vector{Any}, eval_expression::Bool, eval_module::Module, fully_determined::Nothing, warn_cyclic_dependency::Bool, check_units::Bool, circular_dependency_max_cycle_length::Int64, circular_dependency_max_cycles::Int64, use_scc::Bool, force_time_independent::Bool, algebraic_only::Bool, allow_incomplete::Bool})\n",
      "    @ ModelingToolkit C:\\Users\\TCY\\.julia\\packages\\ModelingToolkit\\aau6A\\src\\systems\\problem_utils.jl:658\n",
      "  [9] process_SciMLProblem(constructor::Type, sys::ODESystem, u0map::Vector{Any}, pmap::SciMLBase.NullParameters; build_initializeprob::Bool, implicit_dae::Bool, t::Float64, guesses::Dict{Any, Any}, warn_initialize_determined::Bool, initialization_eqs::Vector{Any}, eval_expression::Bool, eval_module::Module, fully_determined::Nothing, check_initialization_units::Bool, tofloat::Bool, u0_constructor::typeof(identity), du0map::Nothing, check_length::Bool, symbolic_u0::Bool, warn_cyclic_dependency::Bool, circular_dependency_max_cycle_length::Int64, circular_dependency_max_cycles::Int64, substitution_limit::Int64, use_scc::Bool, force_initialization_time_independent::Bool, algebraic_only::Bool, allow_incomplete::Bool, is_initializeprob::Bool, kwargs::@Kwargs{})\n",
      "    @ ModelingToolkit C:\\Users\\TCY\\.julia\\packages\\ModelingToolkit\\aau6A\\src\\systems\\problem_utils.jl:826\n",
      " [10] (ODEProblem{true, SciMLBase.AutoSpecialize})(sys::ODESystem, u0map::Vector{Any}, tspan::Tuple{Float64, Float64}, parammap::SciMLBase.NullParameters; allow_cost::Bool, callback::Nothing, check_length::Bool, warn_initialize_determined::Bool, eval_expression::Bool, eval_module::Module, kwargs::@Kwargs{})\n",
      "    @ ModelingToolkit C:\\Users\\TCY\\.julia\\packages\\ModelingToolkit\\aau6A\\src\\systems\\diffeqs\\abstractodesystem.jl:798\n",
      " [11] ODEProblem\n",
      "    @ C:\\Users\\TCY\\.julia\\packages\\ModelingToolkit\\aau6A\\src\\systems\\diffeqs\\abstractodesystem.jl:773 [inlined]\n",
      " [12] (ODEProblem{true, SciMLBase.AutoSpecialize})(sys::ODESystem, u0map::Vector{Any}, tspan::Tuple{Float64, Float64})\n",
      "    @ ModelingToolkit C:\\Users\\TCY\\.julia\\packages\\ModelingToolkit\\aau6A\\src\\systems\\diffeqs\\abstractodesystem.jl:773\n",
      " [13] (ODEProblem{true})(::ODESystem, ::Vector{Any}, ::Vararg{Any}; kwargs::@Kwargs{})\n",
      "    @ ModelingToolkit C:\\Users\\TCY\\.julia\\packages\\ModelingToolkit\\aau6A\\src\\systems\\diffeqs\\abstractodesystem.jl:766\n",
      " [14] (ODEProblem{true})(::ODESystem, ::Vector{Any}, ::Vararg{Any})\n",
      "    @ ModelingToolkit C:\\Users\\TCY\\.julia\\packages\\ModelingToolkit\\aau6A\\src\\systems\\diffeqs\\abstractodesystem.jl:765\n",
      " [15] ODEProblem(::ODESystem, ::Vector{Any}, ::Vararg{Any}; kwargs::@Kwargs{})\n",
      "    @ ModelingToolkit C:\\Users\\TCY\\.julia\\packages\\ModelingToolkit\\aau6A\\src\\systems\\diffeqs\\abstractodesystem.jl:755\n",
      " [16] ODEProblem(::ODESystem, ::Vector{Any}, ::Vararg{Any})\n",
      "    @ ModelingToolkit C:\\Users\\TCY\\.julia\\packages\\ModelingToolkit\\aau6A\\src\\systems\\diffeqs\\abstractodesystem.jl:754\n",
      " [17] top-level scope\n",
      "    @ e:\\Projects.jl\\Reports.jl\\mtk\\jl_notebook_cell_df34fa98e69747e1a8f8a730347b8e2f_X33sZmlsZQ==.jl:1"
     ]
    }
   ],
   "source": [
    "isys1_prob = ODEProblem(sys, [], (0.0, 10.0))\n",
    "# Warning: Did not converge after `maxiters = 100` substitutions"
   ]
  },
  {
   "cell_type": "markdown",
   "metadata": {},
   "source": [
    "### .2 (sys; u0map, pmap)"
   ]
  },
  {
   "cell_type": "code",
   "execution_count": 99,
   "metadata": {},
   "outputs": [
    {
     "data": {
      "text/plain": [
       "\"26 equations\""
      ]
     },
     "metadata": {},
     "output_type": "display_data"
    },
    {
     "data": {
      "text/latex": [
       "$$ \\begin{align}\n",
       "0 &=  - \\mathtt{resistor.v}\\left( t \\right) + \\mathtt{resistor.i}\\left( t \\right) \\mathtt{resistor.R}\\left( t \\right) \\\\\n",
       "0 &=  - \\mathtt{capacitor.v}\\left( t \\right) \\\\\n",
       "0 &=  - \\mathtt{resistor.i}\\left( t \\right) \\\\\n",
       "0 &= \\mathtt{capacitor.v}\\left( t \\right) - \\mathtt{capacitor.p.v}\\left( t \\right) \\\\\n",
       "0 &= \\mathtt{source.V} - \\mathtt{source.v}\\left( t \\right) \\\\\n",
       "0 &= \\mathtt{resistor.i}\\left( t \\right) - \\mathtt{resistor.p.i}\\left( t \\right) \\\\\n",
       "0 &= \\mathtt{fixedTemperature.T} - \\mathtt{fixedTemperature.port.T}\\left( t \\right) \\\\\n",
       "0 &= \\mathtt{resistor.i}\\left( t \\right) - \\mathtt{capacitor.i}\\left( t \\right) \\\\\n",
       "0 &=  - \\mathtt{source.i}\\left( t \\right) - \\mathtt{resistor.i}\\left( t \\right) \\\\\n",
       "0 &=  - \\mathtt{ground.p.v}\\left( t \\right) \\\\\n",
       "0 &=  - \\mathtt{capacitor.n.v}\\left( t \\right) \\\\\n",
       "0 &=  - \\mathtt{resistor.n.v}\\left( t \\right) + \\mathtt{capacitor.p.v}\\left( t \\right) \\\\\n",
       "0 &=  - \\mathtt{capacitor.v}\\left( t \\right) - \\mathtt{resistor.v}\\left( t \\right) + \\mathtt{source.v}\\left( t \\right) \\\\\n",
       "0 &=  - \\mathtt{resistor.p.i}\\left( t \\right) - \\mathtt{resistor.n.i}\\left( t \\right) \\\\\n",
       "0 &= \\mathtt{fixedTemperature.port.T}\\left( t \\right) - \\mathtt{resistor.heat\\_port.T}\\left( t \\right) \\\\\n",
       "0 &=  - \\mathtt{capacitor.p.i}\\left( t \\right) + \\mathtt{capacitor.i}\\left( t \\right) \\\\\n",
       "0 &=  - \\mathtt{ground.p.i}\\left( t \\right) - \\mathtt{resistor.i}\\left( t \\right) + \\mathtt{capacitor.i}\\left( t \\right) \\\\\n",
       "0 &= \\mathtt{source.i}\\left( t \\right) - \\mathtt{source.p.i}\\left( t \\right) \\\\\n",
       "0 &=  - \\mathtt{source.n.v}\\left( t \\right) + \\mathtt{capacitor.n.v}\\left( t \\right) \\\\\n",
       "0 &= \\mathtt{capacitor.p.v}\\left( t \\right) + \\mathtt{resistor.v}\\left( t \\right) - \\mathtt{source.p.v}\\left( t \\right) \\\\\n",
       "0 &=  - \\mathtt{resistor.heat\\_port.Q\\_flow}\\left( t \\right) - \\mathtt{resistor.i}\\left( t \\right) \\mathtt{resistor.v}\\left( t \\right) \\\\\n",
       "0 &=  - \\mathtt{resistor.R}\\left( t \\right) - \\mathtt{resistor.R\\_ref} \\left( -1 - \\left(  - \\mathtt{resistor.T\\_ref} + \\mathtt{resistor.heat\\_port.T}\\left( t \\right) \\right) \\mathtt{resistor.alpha} \\right) \\\\\n",
       "0 &=  - \\mathtt{capacitor.p.i}\\left( t \\right) - \\mathtt{capacitor.n.i}\\left( t \\right) \\\\\n",
       "0 &=  - \\mathtt{source.p.i}\\left( t \\right) - \\mathtt{source.n.i}\\left( t \\right) \\\\\n",
       "0 &= \\mathtt{source.p.v}\\left( t \\right) - \\mathtt{resistor.p.v}\\left( t \\right) \\\\\n",
       "0 &=  - \\mathtt{fixedTemperature.port.Q\\_flow}\\left( t \\right) - \\mathtt{resistor.heat\\_port.Q\\_flow}\\left( t \\right)\n",
       "\\end{align}\n",
       " $$"
      ],
      "text/plain": [
       "26-element Vector{Equation}:\n",
       " 0 ~ -resistor₊v(t) + resistor₊i(t)*resistor₊R(t)\n",
       " 0 ~ -capacitor₊v(t)\n",
       " 0 ~ -resistor₊i(t)\n",
       " 0 ~ capacitor₊v(t) - capacitor₊p₊v(t)\n",
       " 0 ~ source₊V - source₊v(t)\n",
       " 0 ~ resistor₊i(t) - resistor₊p₊i(t)\n",
       " 0 ~ fixedTemperature₊T - fixedTemperature₊port₊T(t)\n",
       " 0 ~ resistor₊i(t) - capacitor₊i(t)\n",
       " 0 ~ -source₊i(t) - resistor₊i(t)\n",
       " 0 ~ -ground₊p₊v(t)\n",
       " ⋮\n",
       " 0 ~ source₊i(t) - source₊p₊i(t)\n",
       " 0 ~ -source₊n₊v(t) + capacitor₊n₊v(t)\n",
       " 0 ~ capacitor₊p₊v(t) + resistor₊v(t) - source₊p₊v(t)\n",
       " 0 ~ -resistor₊heat_port₊Q_flow(t) - resistor₊i(t)*resistor₊v(t)\n",
       " 0 ~ -resistor₊R(t) - resistor₊R_ref*(-1 - (-resistor₊T_ref + resistor₊heat_port₊T(t))*resistor₊alpha)\n",
       " 0 ~ -capacitor₊p₊i(t) - capacitor₊n₊i(t)\n",
       " 0 ~ -source₊p₊i(t) - source₊n₊i(t)\n",
       " 0 ~ source₊p₊v(t) - resistor₊p₊v(t)\n",
       " 0 ~ -fixedTemperature₊port₊Q_flow(t) - resistor₊heat_port₊Q_flow(t)"
      ]
     },
     "metadata": {},
     "output_type": "display_data"
    },
    {
     "data": {
      "text/plain": [
       "\"25 unknowns\""
      ]
     },
     "metadata": {},
     "output_type": "display_data"
    },
    {
     "data": {
      "text/plain": [
       "25-element Vector{SymbolicUtils.BasicSymbolic{Real}}:\n",
       " capacitor₊v(t)\n",
       " resistor₊i(t)\n",
       " capacitor₊p₊v(t)\n",
       " source₊v(t)\n",
       " resistor₊p₊i(t)\n",
       " fixedTemperature₊port₊T(t)\n",
       " capacitor₊i(t)\n",
       " source₊i(t)\n",
       " ground₊p₊v(t)\n",
       " capacitor₊n₊v(t)\n",
       " ⋮\n",
       " source₊p₊i(t)\n",
       " source₊n₊v(t)\n",
       " source₊p₊v(t)\n",
       " resistor₊heat_port₊Q_flow(t)\n",
       " resistor₊R(t)\n",
       " capacitor₊n₊i(t)\n",
       " source₊n₊i(t)\n",
       " resistor₊p₊v(t)\n",
       " fixedTemperature₊port₊Q_flow(t)"
      ]
     },
     "metadata": {},
     "output_type": "display_data"
    },
    {
     "data": {
      "text/plain": [
       "\"0 observed\""
      ]
     },
     "metadata": {},
     "output_type": "display_data"
    },
    {
     "data": {
      "text/latex": [
       "$$ \\begin{align}\n",
       "\\end{align}\n",
       " $$"
      ],
      "text/plain": [
       "Equation[]"
      ]
     },
     "metadata": {},
     "output_type": "display_data"
    }
   ],
   "source": [
    "isys2 = generate_initializesystem(sys; \n",
    "            u0map = [sys.capacitor.v => 0.0, sys.resistor.i => 0.0],\n",
    "            pmap = [sys.capacitor.C => 1.0, sys.source.V=>1.0,sys.fixedTemperature.T=>400.15])\n",
    "display_isys(isys2)"
   ]
  },
  {
   "cell_type": "code",
   "execution_count": 100,
   "metadata": {},
   "outputs": [
    {
     "name": "stderr",
     "output_type": "stream",
     "text": [
      "┌ Warning: Initialization system is overdetermined. 1 equations for 0 unknowns. Initialization will default to using least squares. `SCCNonlinearProblem` can only be used for initialization of fully determined systems and hence will not be used here. To suppress this warning pass warn_initialize_determined = false. To make this warning into an error, pass fully_determined = true\n",
      "└ @ ModelingToolkit C:\\Users\\TCY\\.julia\\packages\\ModelingToolkit\\aau6A\\src\\systems\\diffeqs\\abstractodesystem.jl:1520\n"
     ]
    },
    {
     "data": {
      "text/plain": [
       "\u001b[38;2;86;182;194mODEProblem\u001b[0m with uType \u001b[38;2;86;182;194mVector{Float64}\u001b[0m and tType \u001b[38;2;86;182;194mFloat64\u001b[0m. In-place: \u001b[38;2;86;182;194mtrue\u001b[0m\n",
       "Initialization status: \u001b[38;2;86;182;194mOVERDETERMINED\u001b[0m\n",
       "Non-trivial mass matrix: \u001b[38;2;86;182;194mtrue\u001b[0m\n",
       "timespan: (0.0, 10.0)\n",
       "u0: 2-element Vector{Float64}:\n",
       " 0.0\n",
       " 0.0"
      ]
     },
     "metadata": {},
     "output_type": "display_data"
    }
   ],
   "source": [
    "isys2_prob = ODEProblem(sys, [sys.capacitor.v => 0.0, sys.resistor.i => 0.0], (0.0, 10.0),\n",
    "                [sys.capacitor.C => 1.0, sys.source.V=>1.0,sys.fixedTemperature.T=>400.15])"
   ]
  },
  {
   "cell_type": "code",
   "execution_count": 101,
   "metadata": {},
   "outputs": [
    {
     "data": {
      "text/latex": [
       "$$ \\begin{align}\n",
       "0 &=  - \\mathtt{resistor.v}\\left( t \\right) + \\mathtt{resistor.i}\\left( t \\right) \\mathtt{resistor.R}\\left( t \\right)\n",
       "\\end{align}\n",
       " $$"
      ],
      "text/plain": [
       "\u001b[0m\u001b[1mModel sys:\u001b[22m\n",
       "\u001b[0m\u001b[1mEquations (1):\u001b[22m\n",
       "  1 standard: see equations(sys)\n",
       "\u001b[0m\u001b[1mParameters (57):\u001b[22m see parameters(sys)\n",
       "  resistor₊alpha [defaults to 0]: Temperature coefficient of resistance\n",
       "  fixedTemperature₊T: Fixed temperature boundary condition\n",
       "  t\n",
       "  source₊V\n",
       "\u001b[0m  ⋮\n",
       "\u001b[0m\u001b[1mObserved (25):\u001b[22m see observed(sys)"
      ]
     },
     "metadata": {},
     "output_type": "display_data"
    }
   ],
   "source": [
    "isys2_prob_initsys = isys2_prob.f.initializeprob.f.sys"
   ]
  },
  {
   "cell_type": "code",
   "execution_count": 102,
   "metadata": {},
   "outputs": [
    {
     "data": {
      "text/latex": [
       "$$ \\begin{align}\n",
       "0 &=  - \\mathtt{resistor.v}\\left( t \\right) + \\mathtt{resistor.i}\\left( t \\right) \\mathtt{resistor.R}\\left( t \\right)\n",
       "\\end{align}\n",
       " $$"
      ],
      "text/plain": [
       "\u001b[0m\u001b[1mModel sys:\u001b[22m\n",
       "\u001b[0m\u001b[1mEquations (1):\u001b[22m\n",
       "  1 standard: see equations(sys)\n",
       "\u001b[0m\u001b[1mParameters (57):\u001b[22m see parameters(sys)\n",
       "  resistor₊alpha [defaults to 0]: Temperature coefficient of resistance\n",
       "  fixedTemperature₊T: Fixed temperature boundary condition\n",
       "  t\n",
       "  source₊V\n",
       "\u001b[0m  ⋮\n",
       "\u001b[0m\u001b[1mObserved (25):\u001b[22m see observed(sys)"
      ]
     },
     "metadata": {},
     "output_type": "display_data"
    }
   ],
   "source": [
    "structural_simplify(isys2; fully_determined = false)"
   ]
  },
  {
   "cell_type": "markdown",
   "metadata": {},
   "source": [
    "### .3 (sys; u0manp, pmap, guesses)"
   ]
  },
  {
   "cell_type": "code",
   "execution_count": 103,
   "metadata": {},
   "outputs": [
    {
     "data": {
      "text/plain": [
       "\"26 equations\""
      ]
     },
     "metadata": {},
     "output_type": "display_data"
    },
    {
     "data": {
      "text/latex": [
       "$$ \\begin{align}\n",
       "0 &=  - \\mathtt{resistor.v}\\left( t \\right) + \\mathtt{resistor.i}\\left( t \\right) \\mathtt{resistor.R}\\left( t \\right) \\\\\n",
       "0 &=  - \\mathtt{capacitor.v}\\left( t \\right) \\\\\n",
       "0 &=  - \\mathtt{resistor.i}\\left( t \\right) \\\\\n",
       "0 &= \\mathtt{capacitor.v}\\left( t \\right) - \\mathtt{capacitor.p.v}\\left( t \\right) \\\\\n",
       "0 &= \\mathtt{source.V} - \\mathtt{source.v}\\left( t \\right) \\\\\n",
       "0 &= \\mathtt{resistor.i}\\left( t \\right) - \\mathtt{resistor.p.i}\\left( t \\right) \\\\\n",
       "0 &= \\mathtt{fixedTemperature.T} - \\mathtt{fixedTemperature.port.T}\\left( t \\right) \\\\\n",
       "0 &= \\mathtt{resistor.i}\\left( t \\right) - \\mathtt{capacitor.i}\\left( t \\right) \\\\\n",
       "0 &=  - \\mathtt{source.i}\\left( t \\right) - \\mathtt{resistor.i}\\left( t \\right) \\\\\n",
       "0 &=  - \\mathtt{ground.p.v}\\left( t \\right) \\\\\n",
       "0 &=  - \\mathtt{capacitor.n.v}\\left( t \\right) \\\\\n",
       "0 &=  - \\mathtt{resistor.n.v}\\left( t \\right) + \\mathtt{capacitor.p.v}\\left( t \\right) \\\\\n",
       "0 &=  - \\mathtt{capacitor.v}\\left( t \\right) - \\mathtt{resistor.v}\\left( t \\right) + \\mathtt{source.v}\\left( t \\right) \\\\\n",
       "0 &=  - \\mathtt{resistor.p.i}\\left( t \\right) - \\mathtt{resistor.n.i}\\left( t \\right) \\\\\n",
       "0 &= \\mathtt{fixedTemperature.port.T}\\left( t \\right) - \\mathtt{resistor.heat\\_port.T}\\left( t \\right) \\\\\n",
       "0 &=  - \\mathtt{capacitor.p.i}\\left( t \\right) + \\mathtt{capacitor.i}\\left( t \\right) \\\\\n",
       "0 &=  - \\mathtt{ground.p.i}\\left( t \\right) - \\mathtt{resistor.i}\\left( t \\right) + \\mathtt{capacitor.i}\\left( t \\right) \\\\\n",
       "0 &= \\mathtt{source.i}\\left( t \\right) - \\mathtt{source.p.i}\\left( t \\right) \\\\\n",
       "0 &=  - \\mathtt{source.n.v}\\left( t \\right) + \\mathtt{capacitor.n.v}\\left( t \\right) \\\\\n",
       "0 &= \\mathtt{capacitor.p.v}\\left( t \\right) + \\mathtt{resistor.v}\\left( t \\right) - \\mathtt{source.p.v}\\left( t \\right) \\\\\n",
       "0 &=  - \\mathtt{resistor.heat\\_port.Q\\_flow}\\left( t \\right) - \\mathtt{resistor.i}\\left( t \\right) \\mathtt{resistor.v}\\left( t \\right) \\\\\n",
       "0 &=  - \\mathtt{resistor.R}\\left( t \\right) - \\mathtt{resistor.R\\_ref} \\left( -1 - \\left(  - \\mathtt{resistor.T\\_ref} + \\mathtt{resistor.heat\\_port.T}\\left( t \\right) \\right) \\mathtt{resistor.alpha} \\right) \\\\\n",
       "0 &=  - \\mathtt{capacitor.p.i}\\left( t \\right) - \\mathtt{capacitor.n.i}\\left( t \\right) \\\\\n",
       "0 &=  - \\mathtt{source.p.i}\\left( t \\right) - \\mathtt{source.n.i}\\left( t \\right) \\\\\n",
       "0 &= \\mathtt{source.p.v}\\left( t \\right) - \\mathtt{resistor.p.v}\\left( t \\right) \\\\\n",
       "0 &=  - \\mathtt{fixedTemperature.port.Q\\_flow}\\left( t \\right) - \\mathtt{resistor.heat\\_port.Q\\_flow}\\left( t \\right)\n",
       "\\end{align}\n",
       " $$"
      ],
      "text/plain": [
       "26-element Vector{Equation}:\n",
       " 0 ~ -resistor₊v(t) + resistor₊i(t)*resistor₊R(t)\n",
       " 0 ~ -capacitor₊v(t)\n",
       " 0 ~ -resistor₊i(t)\n",
       " 0 ~ capacitor₊v(t) - capacitor₊p₊v(t)\n",
       " 0 ~ source₊V - source₊v(t)\n",
       " 0 ~ resistor₊i(t) - resistor₊p₊i(t)\n",
       " 0 ~ fixedTemperature₊T - fixedTemperature₊port₊T(t)\n",
       " 0 ~ resistor₊i(t) - capacitor₊i(t)\n",
       " 0 ~ -source₊i(t) - resistor₊i(t)\n",
       " 0 ~ -ground₊p₊v(t)\n",
       " ⋮\n",
       " 0 ~ source₊i(t) - source₊p₊i(t)\n",
       " 0 ~ -source₊n₊v(t) + capacitor₊n₊v(t)\n",
       " 0 ~ capacitor₊p₊v(t) + resistor₊v(t) - source₊p₊v(t)\n",
       " 0 ~ -resistor₊heat_port₊Q_flow(t) - resistor₊i(t)*resistor₊v(t)\n",
       " 0 ~ -resistor₊R(t) - resistor₊R_ref*(-1 - (-resistor₊T_ref + resistor₊heat_port₊T(t))*resistor₊alpha)\n",
       " 0 ~ -capacitor₊p₊i(t) - capacitor₊n₊i(t)\n",
       " 0 ~ -source₊p₊i(t) - source₊n₊i(t)\n",
       " 0 ~ source₊p₊v(t) - resistor₊p₊v(t)\n",
       " 0 ~ -fixedTemperature₊port₊Q_flow(t) - resistor₊heat_port₊Q_flow(t)"
      ]
     },
     "metadata": {},
     "output_type": "display_data"
    },
    {
     "data": {
      "text/plain": [
       "\"25 unknowns\""
      ]
     },
     "metadata": {},
     "output_type": "display_data"
    },
    {
     "data": {
      "text/plain": [
       "25-element Vector{SymbolicUtils.BasicSymbolic{Real}}:\n",
       " capacitor₊v(t)\n",
       " resistor₊i(t)\n",
       " capacitor₊p₊v(t)\n",
       " source₊v(t)\n",
       " resistor₊p₊i(t)\n",
       " fixedTemperature₊port₊T(t)\n",
       " capacitor₊i(t)\n",
       " source₊i(t)\n",
       " ground₊p₊v(t)\n",
       " capacitor₊n₊v(t)\n",
       " ⋮\n",
       " source₊p₊i(t)\n",
       " source₊n₊v(t)\n",
       " source₊p₊v(t)\n",
       " resistor₊heat_port₊Q_flow(t)\n",
       " resistor₊R(t)\n",
       " capacitor₊n₊i(t)\n",
       " source₊n₊i(t)\n",
       " resistor₊p₊v(t)\n",
       " fixedTemperature₊port₊Q_flow(t)"
      ]
     },
     "metadata": {},
     "output_type": "display_data"
    },
    {
     "data": {
      "text/plain": [
       "\"0 observed\""
      ]
     },
     "metadata": {},
     "output_type": "display_data"
    },
    {
     "data": {
      "text/latex": [
       "$$ \\begin{align}\n",
       "\\end{align}\n",
       " $$"
      ],
      "text/plain": [
       "Equation[]"
      ]
     },
     "metadata": {},
     "output_type": "display_data"
    }
   ],
   "source": [
    "isys3 = generate_initializesystem(sys; \n",
    "            u0map = [sys.capacitor.v => 0.0, sys.resistor.i => 0.0],\n",
    "            pmap = [sys.capacitor.C => 1.0, sys.source.V=>1.0,sys.fixedTemperature.T=>400.15],\n",
    "            guesses = [sys.resistor.R=>sys.resistor.R_ref])\n",
    "display_isys(isys3)"
   ]
  },
  {
   "cell_type": "code",
   "execution_count": 104,
   "metadata": {},
   "outputs": [
    {
     "name": "stderr",
     "output_type": "stream",
     "text": [
      "┌ Warning: Initialization system is overdetermined. 1 equations for 0 unknowns. Initialization will default to using least squares. `SCCNonlinearProblem` can only be used for initialization of fully determined systems and hence will not be used here. To suppress this warning pass warn_initialize_determined = false. To make this warning into an error, pass fully_determined = true\n",
      "└ @ ModelingToolkit C:\\Users\\TCY\\.julia\\packages\\ModelingToolkit\\aau6A\\src\\systems\\diffeqs\\abstractodesystem.jl:1520\n"
     ]
    },
    {
     "data": {
      "text/plain": [
       "\u001b[38;2;86;182;194mODEProblem\u001b[0m with uType \u001b[38;2;86;182;194mVector{Float64}\u001b[0m and tType \u001b[38;2;86;182;194mFloat64\u001b[0m. In-place: \u001b[38;2;86;182;194mtrue\u001b[0m\n",
       "Initialization status: \u001b[38;2;86;182;194mOVERDETERMINED\u001b[0m\n",
       "Non-trivial mass matrix: \u001b[38;2;86;182;194mtrue\u001b[0m\n",
       "timespan: (0.0, 10.0)\n",
       "u0: 2-element Vector{Float64}:\n",
       " 0.0\n",
       " 0.0"
      ]
     },
     "metadata": {},
     "output_type": "display_data"
    }
   ],
   "source": [
    "isys3_prob = ODEProblem(sys, [sys.capacitor.v => 0.0, sys.resistor.i => 0.0], (0.0, 10.0),\n",
    "                [sys.capacitor.C => 1.0, sys.source.V=>1.0,sys.fixedTemperature.T=>400.15],\n",
    "                guesses = [sys.resistor.R=>sys.resistor.R_ref])"
   ]
  },
  {
   "cell_type": "code",
   "execution_count": 105,
   "metadata": {},
   "outputs": [
    {
     "data": {
      "text/latex": [
       "$$ \\begin{align}\n",
       "0 &=  - \\mathtt{resistor.v}\\left( t \\right) + \\mathtt{resistor.i}\\left( t \\right) \\mathtt{resistor.R}\\left( t \\right)\n",
       "\\end{align}\n",
       " $$"
      ],
      "text/plain": [
       "\u001b[0m\u001b[1mModel sys:\u001b[22m\n",
       "\u001b[0m\u001b[1mEquations (1):\u001b[22m\n",
       "  1 standard: see equations(sys)\n",
       "\u001b[0m\u001b[1mParameters (57):\u001b[22m see parameters(sys)\n",
       "  resistor₊alpha [defaults to 0]: Temperature coefficient of resistance\n",
       "  fixedTemperature₊T: Fixed temperature boundary condition\n",
       "  t\n",
       "  source₊V\n",
       "\u001b[0m  ⋮\n",
       "\u001b[0m\u001b[1mObserved (25):\u001b[22m see observed(sys)"
      ]
     },
     "metadata": {},
     "output_type": "display_data"
    }
   ],
   "source": [
    "isys3_prob_initsys = isys3_prob.f.initializeprob.f.sys"
   ]
  },
  {
   "cell_type": "code",
   "execution_count": 106,
   "metadata": {},
   "outputs": [
    {
     "data": {
      "text/latex": [
       "$$ \\begin{align}\n",
       "0 &=  - \\mathtt{resistor.v}\\left( t \\right) + \\mathtt{resistor.i}\\left( t \\right) \\mathtt{resistor.R}\\left( t \\right)\n",
       "\\end{align}\n",
       " $$"
      ],
      "text/plain": [
       "\u001b[0m\u001b[1mModel sys:\u001b[22m\n",
       "\u001b[0m\u001b[1mEquations (1):\u001b[22m\n",
       "  1 standard: see equations(sys)\n",
       "\u001b[0m\u001b[1mParameters (57):\u001b[22m see parameters(sys)\n",
       "  resistor₊alpha [defaults to 0]: Temperature coefficient of resistance\n",
       "  fixedTemperature₊T: Fixed temperature boundary condition\n",
       "  t\n",
       "  source₊V\n",
       "\u001b[0m  ⋮\n",
       "\u001b[0m\u001b[1mObserved (25):\u001b[22m see observed(sys)"
      ]
     },
     "metadata": {},
     "output_type": "display_data"
    }
   ],
   "source": [
    "structural_simplify(isys3; fully_determined = false)"
   ]
  }
 ],
 "metadata": {
  "kernelspec": {
   "display_name": "Julia 1.11.0",
   "language": "julia",
   "name": "julia-1.11"
  },
  "language_info": {
   "file_extension": ".jl",
   "mimetype": "application/julia",
   "name": "julia",
   "version": "1.11.0"
  }
 },
 "nbformat": 4,
 "nbformat_minor": 2
}
