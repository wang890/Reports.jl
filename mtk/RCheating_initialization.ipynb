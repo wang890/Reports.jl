{
 "cells": [
  {
   "cell_type": "code",
   "execution_count": 1,
   "metadata": {},
   "outputs": [],
   "source": [
    "using ModelingToolkit, OrdinaryDiffEq, Plots\n",
    "using ModelingToolkit: t_nounits as t, D_nounits as d"
   ]
  },
  {
   "cell_type": "markdown",
   "metadata": {},
   "source": [
    "### Models"
   ]
  },
  {
   "cell_type": "code",
   "execution_count": 2,
   "metadata": {},
   "outputs": [
    {
     "name": "stdout",
     "output_type": "stream",
     "text": []
    }
   ],
   "source": [
    "@connector Pin begin\n",
    "    v(t) # Potential at the pin\n",
    "    i(t), [connect = Flow] # Current flowing into the pin\n",
    "end\n",
    "\n",
    "@mtkmodel OnePort begin\n",
    "    @components begin\n",
    "        p = Pin()\n",
    "        n = Pin()\n",
    "    end\n",
    "    @variables begin\n",
    "        v(t) # Voltage drop of the two pins (= p.v - n.v)\n",
    "        i(t) # Current flowing into the pin\n",
    "    end\n",
    "    @equations begin\n",
    "        v ~ p.v - n.v\n",
    "        0 ~ p.i + n.i\n",
    "        i ~ p.i\n",
    "    end\n",
    "end"
   ]
  },
  {
   "cell_type": "code",
   "execution_count": 3,
   "metadata": {},
   "outputs": [
    {
     "name": "stdout",
     "output_type": "stream",
     "text": []
    }
   ],
   "source": [
    "@connector HeatPort begin\n",
    "    T(t)\n",
    "    Q_flow(t), [connect = Flow]\n",
    "end\n",
    "\n",
    "@connector HeatPort_a begin\n",
    "    @extend T, Q_flow = heatPort_a = HeatPort()\n",
    "end\n",
    "\n",
    "@connector HeatPort_b begin\n",
    "    @extend T, Q_flow = heatPort_b = HeatPort()\n",
    "end"
   ]
  },
  {
   "cell_type": "code",
   "execution_count": 4,
   "metadata": {},
   "outputs": [
    {
     "name": "stdout",
     "output_type": "stream",
     "text": []
    }
   ],
   "source": [
    "@mtkmodel FixedTemperature begin\n",
    "    @components begin\n",
    "        port = HeatPort_b()\n",
    "    end\n",
    "    @parameters begin\n",
    "        T, [description = \"Fixed temperature boundary condition\"]\n",
    "    end\n",
    "    @equations begin\n",
    "        port.T ~ T\n",
    "    end\n",
    "end"
   ]
  },
  {
   "cell_type": "code",
   "execution_count": 5,
   "metadata": {},
   "outputs": [
    {
     "name": "stdout",
     "output_type": "stream",
     "text": []
    }
   ],
   "source": [
    "# copy from ModelingToolkitStandardLibrary\n",
    "@mtkmodel HeatingResistor begin\n",
    "    @extend v, i = oneport = OnePort()\n",
    "    @components begin\n",
    "        heat_port = HeatPort()\n",
    "    end\n",
    "    @parameters begin\n",
    "        R_ref = 1.0, [description = \"Reference resistance\"]\n",
    "        T_ref = 300.15, [description = \"Reference temperature\"]\n",
    "        alpha = 0, [description = \"Temperature coefficient of resistance\"]\n",
    "        tau = 1e-6, [description = \"Time constant for resistance change\"]\n",
    "    end\n",
    "    @variables begin\n",
    "        R(t), [guess = R_ref]\n",
    "    end\n",
    "    @equations begin\n",
    "        d(R) ~ (R_ref * (1 + alpha * (heat_port.T - T_ref)) - R) / tau\n",
    "        heat_port.Q_flow ~ -v * i # -LossPower\n",
    "        v ~ i * R \n",
    "        # ExtraVariablesSystemException: The system is unbalanced. \n",
    "        # There are 25 highest order derivative variables and 24 equations.\n",
    "    end\n",
    "end"
   ]
  },
  {
   "cell_type": "code",
   "execution_count": 6,
   "metadata": {},
   "outputs": [
    {
     "name": "stdout",
     "output_type": "stream",
     "text": []
    }
   ],
   "source": [
    "@mtkmodel Ground begin\n",
    "    @components begin\n",
    "        p = Pin()\n",
    "    end\n",
    "    @equations begin\n",
    "        p.v ~ 0\n",
    "    end\n",
    "end\n",
    "\n",
    "@mtkmodel Capacitor begin\n",
    "    @extend i,v = oneport = OnePort()\n",
    "    @parameters begin\n",
    "        C # Capacitance\n",
    "    end\n",
    "    @equations begin\n",
    "        i ~ C * d(v)\n",
    "    end\n",
    "end\n",
    "\n",
    "@mtkmodel ConstantVoltage begin\n",
    "    @extend v, = oneport = OnePort()    \n",
    "    @parameters begin\n",
    "        V # Value of constant voltage\n",
    "    end\n",
    "    @equations begin\n",
    "        v ~ V\n",
    "    end\n",
    "end"
   ]
  },
  {
   "cell_type": "code",
   "execution_count": 7,
   "metadata": {},
   "outputs": [
    {
     "name": "stdout",
     "output_type": "stream",
     "text": []
    }
   ],
   "source": [
    "@mtkmodel RcHeating begin    \n",
    "    @components begin\n",
    "        resistor = HeatingResistor()           \n",
    "        capacitor = Capacitor()\n",
    "        source = ConstantVoltage()\n",
    "        ground = Ground()\n",
    "        fixedTemperature = FixedTemperature()\n",
    "        \n",
    "    end      \n",
    "    @equations begin        \n",
    "        connect(source.p, resistor.p)\n",
    "        connect(resistor.n, capacitor.p)\n",
    "        connect(capacitor.n, source.n, ground.p) \n",
    "        connect(resistor.heat_port, fixedTemperature.port)       \n",
    "    end\n",
    "end"
   ]
  },
  {
   "cell_type": "markdown",
   "metadata": {},
   "source": [
    "### 0. sys"
   ]
  },
  {
   "cell_type": "code",
   "execution_count": 8,
   "metadata": {},
   "outputs": [
    {
     "name": "stdout",
     "output_type": "stream",
     "text": []
    }
   ],
   "source": [
    "@mtkbuild sys = RcHeating()"
   ]
  },
  {
   "cell_type": "code",
   "execution_count": 9,
   "metadata": {},
   "outputs": [
    {
     "name": "stdout",
     "output_type": "stream",
     "text": []
    }
   ],
   "source": [
    "\"\"\"\n",
    "Unknowns (2)\n",
    "    capacitor₊v(t) ▪ Unassigned ▪ Voltage drop of the two pins (= p.v - n.v)\n",
    "    resistor₊i(t) ▪ Unassigned ▪ Current flowing from pin p to pin n\n",
    "Parameters (6)\n",
    "    resistor₊alpha ▪ 0 ▪ Temperature coefficient of resistance\n",
    "    fixedTemperature₊T ▪ Unassigned ▪ Fixed temperature at port\n",
    "    source₊V ▪ Unassigned ▪ Value of constant voltage\n",
    "    resistor₊R_ref ▪ 1.0 ▪ Reference resistance\n",
    "    resistor₊T_ref ▪ 300.15 ▪ Reference temperature\n",
    "    capacitor₊C ▪ Unassigned ▪ Capacitance\n",
    "Equations (2)\n",
    "    Differential(t)(capacitor₊v(t)) ~ capacitor₊i(t) / capacitor₊C\n",
    "    0 ~ -resistor₊v(t) + resistor₊i(t)*resistor₊R(t)\n",
    "\"\"\"\n",
    "nothing"
   ]
  },
  {
   "cell_type": "code",
   "execution_count": 10,
   "metadata": {},
   "outputs": [
    {
     "name": "stdout",
     "output_type": "stream",
     "text": []
    },
    {
     "name": "stdout",
     "output_type": "stream",
     "text": []
    },
    {
     "name": "stdout",
     "output_type": "stream",
     "text": []
    },
    {
     "name": "stdout",
     "output_type": "stream",
     "text": []
    }
   ],
   "source": [
    "parameters(sys) |> display\n",
    "observed(sys) |> display\n",
    "unknowns(sys) |> display\n",
    "equations(sys) |> display"
   ]
  },
  {
   "cell_type": "markdown",
   "metadata": {},
   "source": [
    "### .1 (sys)"
   ]
  },
  {
   "cell_type": "code",
   "execution_count": 11,
   "metadata": {},
   "outputs": [
    {
     "name": "stdout",
     "output_type": "stream",
     "text": []
    }
   ],
   "source": [
    "function display_isys(isys)\n",
    "    # isys_ps = parameters(isys)\n",
    "    isys_eqs = equations(isys)\n",
    "    isys_unks = unknowns(isys)\n",
    "    isys_obs = observed(isys)\n",
    "\n",
    "    # display(\"$(length(isys_ps)) parameters\")\n",
    "    # display(isys_ps)\n",
    "    display(\"$(length(isys_eqs)) equations\")\n",
    "    display(isys_eqs)\n",
    "    display(\"$(length(isys_unks)) unknowns\")\n",
    "    display(isys_unks)\n",
    "    display(\"$(length(isys_obs)) observed\")\n",
    "    display(isys_obs)\n",
    "end"
   ]
  },
  {
   "cell_type": "code",
   "execution_count": 12,
   "metadata": {},
   "outputs": [
    {
     "name": "stdout",
     "output_type": "stream",
     "text": []
    },
    {
     "name": "stdout",
     "output_type": "stream",
     "text": []
    },
    {
     "name": "stdout",
     "output_type": "stream",
     "text": []
    },
    {
     "name": "stdout",
     "output_type": "stream",
     "text": []
    },
    {
     "name": "stdout",
     "output_type": "stream",
     "text": []
    },
    {
     "name": "stdout",
     "output_type": "stream",
     "text": []
    }
   ],
   "source": [
    "isys1 = generate_initializesystem(sys)\n",
    "display_isys(isys1)"
   ]
  },
  {
   "cell_type": "code",
   "execution_count": 13,
   "metadata": {},
   "outputs": [
    {
     "name": "stdout",
     "output_type": "stream",
     "text": []
    },
    {
     "name": "stdout",
     "output_type": "stream",
     "text": []
    }
   ],
   "source": [
    "isys1_prob = ODEProblem(sys, [], (0.0, 10.0))\n",
    "# Warning: Did not converge after `maxiters = 100` substitutions"
   ]
  },
  {
   "cell_type": "markdown",
   "metadata": {},
   "source": [
    "### .2 (sys; u0map, pmap)"
   ]
  },
  {
   "cell_type": "code",
   "execution_count": 14,
   "metadata": {},
   "outputs": [
    {
     "name": "stdout",
     "output_type": "stream",
     "text": []
    },
    {
     "name": "stdout",
     "output_type": "stream",
     "text": []
    },
    {
     "name": "stdout",
     "output_type": "stream",
     "text": []
    },
    {
     "name": "stdout",
     "output_type": "stream",
     "text": []
    },
    {
     "name": "stdout",
     "output_type": "stream",
     "text": []
    },
    {
     "name": "stdout",
     "output_type": "stream",
     "text": []
    }
   ],
   "source": [
    "isys2 = generate_initializesystem(sys; \n",
    "            u0map = [sys.capacitor.v => 0.0, sys.resistor.i => 0.0],\n",
    "            pmap = [sys.capacitor.C => 1.0, sys.source.V=>1.0,sys.fixedTemperature.T=>400.15])\n",
    "display_isys(isys2)"
   ]
  },
  {
   "cell_type": "code",
   "execution_count": 22,
   "metadata": {},
   "outputs": [
    {
     "name": "stdout",
     "output_type": "stream",
     "text": []
    }
   ],
   "source": [
    "isys2_prob = ODEProblem(sys, [sys.capacitor.v => 0.0, sys.resistor.i => 0.0], (0.0, 10.0),\n",
    "                [sys.capacitor.C => 1.0, sys.source.V=>1.0,sys.fixedTemperature.T=>400.15])"
   ]
  },
  {
   "cell_type": "code",
   "execution_count": 23,
   "metadata": {},
   "outputs": [
    {
     "name": "stdout",
     "output_type": "stream",
     "text": []
    }
   ],
   "source": [
    "isys2_prob_initsys = isys2_prob.f.initializeprob.f.sys"
   ]
  },
  {
   "cell_type": "code",
   "execution_count": 25,
   "metadata": {},
   "outputs": [
    {
     "name": "stdout",
     "output_type": "stream",
     "text": []
    },
    {
     "name": "stdout",
     "output_type": "stream",
     "text": []
    }
   ],
   "source": [
    "isys2_sol = solve(isys2_prob, FBDF(); saveat=0.1)\n",
    "plot(isys2_sol, idxs=[sys.capacitor.v, sys.resistor.i]) |> display"
   ]
  },
  {
   "cell_type": "code",
   "execution_count": 17,
   "metadata": {},
   "outputs": [
    {
     "name": "stdout",
     "output_type": "stream",
     "text": []
    }
   ],
   "source": [
    "structural_simplify(isys2; fully_determined = false)"
   ]
  },
  {
   "cell_type": "markdown",
   "metadata": {},
   "source": [
    "### .3 (sys; u0manp, pmap, guesses)"
   ]
  },
  {
   "cell_type": "code",
   "execution_count": 18,
   "metadata": {},
   "outputs": [
    {
     "name": "stdout",
     "output_type": "stream",
     "text": []
    },
    {
     "name": "stdout",
     "output_type": "stream",
     "text": []
    },
    {
     "name": "stdout",
     "output_type": "stream",
     "text": []
    },
    {
     "name": "stdout",
     "output_type": "stream",
     "text": []
    },
    {
     "name": "stdout",
     "output_type": "stream",
     "text": []
    },
    {
     "name": "stdout",
     "output_type": "stream",
     "text": []
    }
   ],
   "source": [
    "isys3 = generate_initializesystem(sys; \n",
    "            u0map = [sys.capacitor.v => 0.0, sys.resistor.i => 0.0],\n",
    "            pmap = [sys.capacitor.C => 1.0, sys.source.V=>1.0,sys.fixedTemperature.T=>400.15],\n",
    "            guesses = [sys.resistor.R=>sys.resistor.R_ref])\n",
    "display_isys(isys3)"
   ]
  },
  {
   "cell_type": "code",
   "execution_count": 19,
   "metadata": {},
   "outputs": [
    {
     "name": "stdout",
     "output_type": "stream",
     "text": []
    }
   ],
   "source": [
    "isys3_prob = ODEProblem(sys, [sys.capacitor.v => 0.0, sys.resistor.i => 0.0], (0.0, 10.0),\n",
    "                [sys.capacitor.C => 1.0, sys.source.V=>1.0,sys.fixedTemperature.T=>400.15],\n",
    "                guesses = [sys.resistor.R=>sys.resistor.R_ref])"
   ]
  },
  {
   "cell_type": "code",
   "execution_count": 20,
   "metadata": {},
   "outputs": [
    {
     "name": "stdout",
     "output_type": "stream",
     "text": []
    }
   ],
   "source": [
    "isys3_prob_initsys = isys3_prob.f.initializeprob.f.sys"
   ]
  },
  {
   "cell_type": "code",
   "execution_count": 21,
   "metadata": {},
   "outputs": [
    {
     "name": "stdout",
     "output_type": "stream",
     "text": []
    }
   ],
   "source": [
    "structural_simplify(isys3; fully_determined = false)"
   ]
  }
 ],
 "metadata": {
  "kernelspec": {
   "display_name": "Julia 1.11.0",
   "language": "julia",
   "name": "julia-1.11"
  },
  "language_info": {
   "file_extension": ".jl",
   "mimetype": "application/julia",
   "name": "julia",
   "version": "1.11.0"
  }
 },
 "nbformat": 4,
 "nbformat_minor": 5
}
