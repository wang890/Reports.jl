{
 "cells": [
  {
   "cell_type": "code",
   "execution_count": 1,
   "metadata": {},
   "outputs": [],
   "source": [
    "using DynamicQuantities"
   ]
  },
  {
   "cell_type": "code",
   "execution_count": 2,
   "metadata": {},
   "outputs": [
    {
     "data": {
      "text/plain": [
       "2.0 m² kg s⁻³ A⁻²"
      ]
     },
     "metadata": {},
     "output_type": "display_data"
    },
    {
     "data": {
      "text/plain": [
       "Quantity{Float64, Dimensions{DynamicQuantities.FixedRational{Int32, 25200}}}"
      ]
     },
     "metadata": {},
     "output_type": "display_data"
    }
   ],
   "source": [
    "x = 2u\"ohm\"\n",
    "x |> display\n",
    "x |> typeof |> display"
   ]
  },
  {
   "cell_type": "code",
   "execution_count": 2,
   "metadata": {},
   "outputs": [
    {
     "name": "stderr",
     "output_type": "stream",
     "text": [
      "┌ Warning: attempting to remove probably stale pidfile\n",
      "│   path = C:\\Users\\TCY\\.julia\\compiled\\v1.11\\Symbolics\\eABRO_8prPf.ji.pidfile\n",
      "└ @ FileWatching.Pidfile C:\\Users\\TCY\\.julia\\juliaup\\julia-1.11.0+0.x64.w64.mingw32\\share\\julia\\stdlib\\v1.11\\FileWatching\\src\\pidfile.jl:249\n"
     ]
    }
   ],
   "source": [
    "using Symbolics: Num"
   ]
  },
  {
   "cell_type": "code",
   "execution_count": 3,
   "metadata": {},
   "outputs": [
    {
     "data": {
      "text/plain": [
       "convert_units (generic function with 1 method)"
      ]
     },
     "metadata": {},
     "output_type": "display_data"
    }
   ],
   "source": [
    "convert_units(::DynamicQuantities.Quantity, value::Num) = value"
   ]
  },
  {
   "cell_type": "code",
   "execution_count": 4,
   "metadata": {},
   "outputs": [
    {
     "ename": "MethodError",
     "evalue": "MethodError: no method matching convert_units(::Quantity{Float64, Dimensions{DynamicQuantities.FixedRational{Int32, 25200}}}, ::Int64)\nThe function `convert_units` exists, but no method is defined for this combination of argument types.\n\nClosest candidates are:\n  convert_units(::Quantity, !Matched::Num)\n   @ Main e:\\Projects.jl\\Reports.jl\\mtk\\jl_notebook_cell_df34fa98e69747e1a8f8a730347b8e2f_W3sZmlsZQ==.jl:1\n",
     "output_type": "error",
     "traceback": [
      "MethodError: no method matching convert_units(::Quantity{Float64, Dimensions{DynamicQuantities.FixedRational{Int32, 25200}}}, ::Int64)\n",
      "The function `convert_units` exists, but no method is defined for this combination of argument types.\n",
      "\n",
      "Closest candidates are:\n",
      "  convert_units(::Quantity, !Matched::Num)\n",
      "   @ Main e:\\Projects.jl\\Reports.jl\\mtk\\jl_notebook_cell_df34fa98e69747e1a8f8a730347b8e2f_W3sZmlsZQ==.jl:1\n",
      "\n",
      "\n",
      "Stacktrace:\n",
      " [1] top-level scope\n",
      "   @ e:\\Projects.jl\\Reports.jl\\mtk\\jl_notebook_cell_df34fa98e69747e1a8f8a730347b8e2f_W4sZmlsZQ==.jl:1"
     ]
    }
   ],
   "source": [
    "convert_units(1u\"V\",3)"
   ]
  }
 ],
 "metadata": {
  "kernelspec": {
   "display_name": "Julia 1.11.0",
   "language": "julia",
   "name": "julia-1.11"
  },
  "language_info": {
   "file_extension": ".jl",
   "mimetype": "application/julia",
   "name": "julia",
   "version": "1.11.0"
  }
 },
 "nbformat": 4,
 "nbformat_minor": 2
}
